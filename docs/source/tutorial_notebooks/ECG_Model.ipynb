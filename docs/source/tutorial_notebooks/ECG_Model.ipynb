{
 "cells": [
  {
   "cell_type": "code",
   "execution_count": 10,
   "id": "d553ea27",
   "metadata": {},
   "outputs": [],
   "source": [
    "import numpy as np\n",
    "import os, sys\n",
    "sys.path.append(os.path.abspath(os.path.join('../../..')))\n",
    "import tensorflow as tf\n",
    "\n",
    "from scipy import integrate as spi\n",
    "from mpl_toolkits import mplot3d\n",
    "import matplotlib.pyplot as plt"
   ]
  },
  {
   "cell_type": "code",
   "execution_count": 11,
   "id": "6c3c2e7d",
   "metadata": {},
   "outputs": [
    {
     "name": "stdout",
     "output_type": "stream",
     "text": [
      "Current working directory: /home/rene/BayesFlow\n"
     ]
    }
   ],
   "source": [
    "current_dir = os.getcwd()\n",
    "print(\"Current working directory: {0}\".format(os.getcwd()))\n",
    "os.chdir('/home/rene/BayesFlow') #Location of BayesFlow on hard drive\n",
    "\n",
    "from bayesflow.forward_inference import GenerativeModel, Prior, Simulator\n",
    "from bayesflow.networks import InvertibleNetwork, InvariantNetwork\n",
    "from bayesflow.amortized_inference import AmortizedPosterior\n",
    "from bayesflow.trainers import Trainer\n",
    "\n",
    "os.chdir(current_dir)"
   ]
  },
  {
   "cell_type": "code",
   "execution_count": 6,
   "id": "86362fc2",
   "metadata": {},
   "outputs": [
    {
     "name": "stdout",
     "output_type": "stream",
     "text": [
      "\n",
      " Params ODE:\n",
      "{'a': array([ 1.2 , -5.  , 30.  , -7.5 ,  0.75]), 'b': array([0.25, 0.1 , 0.1 , 0.1 , 0.4 ]), 'phi': array([-1.04719755, -0.26179939,  0.        ,  0.26179939,  1.57079633])}\n",
      "\n",
      " Params simulation:\n",
      "{'f_s': 1000, 'Nt': 13000, 'max_t': 12.999, 'pos_0': array([1, 0, 0]), 'Tspan': [0, 12.999], 't_eval': array([0.0000e+00, 1.0000e-03, 2.0000e-03, ..., 1.2997e+01, 1.2998e+01,\n",
      "       1.2999e+01])}\n"
     ]
    }
   ],
   "source": [
    "A = np.asarray([1.2,-5.0,30.0,-7.5, 0.75])\n",
    "B = np.asarray([0.25, 0.1, 0.1, 0.1, 0.4])\n",
    "Phi = np.pi*np.asarray([-1/3,-1/12,0,1/12,0.5])\n",
    "#Phi = (np.pi / 180) * np.asarray([-70, -15, 0, 15, 100])\n",
    "\n",
    "A_1 = np.asarray([1.2,-5.0,30.0,-7.5, 0.75])\n",
    "B_1 = np.asarray([0.25, 0.1, 0.1, 0.1, 0.6])\n",
    "Phi_1 = np.pi*np.asarray([-1/3,-1/12,0,1/12,0.5])\n",
    "\n",
    "params_ODE = {'a': A, 'b': B, 'phi': Phi}\n",
    "params_ODE_1 = {'a': A_1, 'b': B_1, 'phi': Phi_1}\n",
    "\n",
    "Nt = 13000\n",
    "f_s = 1000\n",
    "f_2 = 0.25\n",
    "#pos_0 = np.asarray([1, 0, 0.04])\n",
    "pos_0 = np.asarray([1, 0, 0])\n",
    "\n",
    "\n",
    "max_t = (Nt-1)*(1/f_s)\n",
    "params_sim = {'f_2': f_2, 'f_s': f_s, 'Nt': Nt, 'max_t': max_t, 'pos_0': pos_0, 'Tspan': [0, max_t], \\\n",
    "             't_eval': np.linspace(0, max_t, Nt)}\n",
    "\n",
    "# f_1 = 0.1\n",
    "# c_1 = 0.01\n",
    "# c_2 = 0.01\n",
    "# sigma_1 = 1\n",
    "\n",
    "# params_TS = {'f_1': f_1, 'f_2': f_2, 'c_1': c_1, 'c_2': c_2, \\\n",
    "#              'sigma_1': sigma_1, 'sigma_2': (2 * sigma_1) ** 0.5}\n",
    "\n",
    "print(\"\\n Params ODE:\")\n",
    "print(params_ODE)\n",
    "# print(\"\\n Params Time Series:\")\n",
    "# print(params_TS)\n",
    "print(\"\\n Params simulation:\")\n",
    "print(params_sim)"
   ]
  },
  {
   "cell_type": "code",
   "execution_count": 9,
   "id": "e02ca972",
   "metadata": {},
   "outputs": [
    {
     "name": "stdout",
     "output_type": "stream",
     "text": [
      "[-0.56059761 -0.23570226  0.          0.23570226  0.84089642]\n"
     ]
    }
   ],
   "source": [
    "hrmean = 480\n",
    "hrfact = np.sqrt(hrmean / 60)\n",
    "hrfact2 = np.sqrt(hrfact)\n",
    "Phi_ext = np.array([hrfact2, hrfact, 1, hrfact, hrfact2]) * Phi\n",
    "print(Phi_ext/np.pi)"
   ]
  },
  {
   "cell_type": "code",
   "execution_count": null,
   "id": "4997bb32",
   "metadata": {},
   "outputs": [],
   "source": [
    "def alpha(x,y):\n",
    "    return(1-(x**2 + y**2)** .5)\n",
    "\n",
    "def delta_phi(x,y,phi):\n",
    "    return((np.arctan2(y,x)-phi) % (2*np.pi))\n",
    "\n",
    "def gauss_sum(x,y,a,b,phi):\n",
    "    gauss_summands = -a*delta_phi(x,y,phi)*np.exp(-(delta_phi(x,y,phi)**2)/(2*(b**2)))\n",
    "    return(np.sum(gauss_summands))\n",
    "\n",
    "def z_0(t,f_2):\n",
    "    return(0.15*np.sin(2*np.pi*f_2*t))\n",
    "\n",
    "def omega(t, T, max_t, Nt):\n",
    "    t_index = int((t/max_t*Nt)-1)\n",
    "    return(np.pi*2/T[t_index])\n",
    "\n",
    "def ECG_model(t, p, T, params_ODE, params_sim, baseline_wander=False, time_dependent_omega=False):\n",
    "    if baseline_wander:\n",
    "        z_zero = z_0\n",
    "    else:\n",
    "        z_zero = lambda t, f_2: 0\n",
    "    \n",
    "    position = [alpha(p[0],p[1])*p[0]-p[1], alpha(p[0],p[1])*p[1]+p[0], \\\n",
    "                gauss_sum(p[0],p[1],params_ODE['a'],params_ODE['b'],params_ODE['phi'])-p[2]+z_zero(t,f_2)]\n",
    "    \n",
    "    return(position)\n",
    "\n",
    "def generate_ECG(f_s, pos_0, params_ODE, params_sim, \\\n",
    "                 baseline_wander=False, time_dependent_omega=False, add_noise=False):\n",
    "    \n",
    "    T = generate_time_series(params_TS, params_sim, 0, 1)\n",
    "    \n",
    "    positions = spi.solve_ivp(lambda t, y: \\\n",
    "                  ECG_model(t, y, T, params_ODE, params_TS, baseline_wander, time_dependent_omega), \\\n",
    "                  params_sim['Tspan'], params_sim['pos_0'], t_eval=params_sim['t_eval']).y\n",
    "    \n",
    "    if add_noise:\n",
    "        magnitude = np.mean(positions[2])\n",
    "        positions[2] += 10*(2 * np.random.uniform(len(positions[2])) - 1)\n",
    "    return(positions)\n"
   ]
  }
 ],
 "metadata": {
  "kernelspec": {
   "display_name": "Python 3 (ipykernel)",
   "language": "python",
   "name": "python3"
  },
  "language_info": {
   "codemirror_mode": {
    "name": "ipython",
    "version": 3
   },
   "file_extension": ".py",
   "mimetype": "text/x-python",
   "name": "python",
   "nbconvert_exporter": "python",
   "pygments_lexer": "ipython3",
   "version": "3.9.12"
  }
 },
 "nbformat": 4,
 "nbformat_minor": 5
}
