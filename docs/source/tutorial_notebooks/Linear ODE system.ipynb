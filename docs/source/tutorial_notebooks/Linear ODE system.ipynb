{
 "cells": [
  {
   "cell_type": "markdown",
   "id": "951fb587",
   "metadata": {},
   "source": [
    "# Import Packages"
   ]
  },
  {
   "cell_type": "code",
   "execution_count": null,
   "id": "0434c914",
   "metadata": {},
   "outputs": [],
   "source": []
  },
  {
   "cell_type": "markdown",
   "id": "632bd3fb",
   "metadata": {},
   "source": [
    "# Introduction\n",
    "<br>\n",
    "In this tutorial, we will look at a simple linear ODE system:\n",
    "\n",
    "$$\n",
    "\\frac{du}{dt} = a u + b v \\\\\n",
    "\\frac{dv}{dt} = c u + d v  \n",
    "$$\n",
    "\n",
    "with the boundary conditions:\n",
    "\n",
    "$$\n",
    "u(t=0) = u_0 \\\\\n",
    "v(t=0) = v_0\n",
    "$$\n",
    "\n",
    "Given the solutions $u(t)$ and $v(t)$, we want to use BayesFlow to predict the parameters $a$, $b$, $c$ and $d$ of the ODE equations as well as the boundary conditions $u_0$ and $v_0$.  \n"
   ]
  },
  {
   "cell_type": "markdown",
   "id": "1d1f43c6",
   "metadata": {},
   "source": [
    "# Analytical Solution\n",
    "\n",
    "The advantage"
   ]
  },
  {
   "cell_type": "code",
   "execution_count": null,
   "id": "a93fa2be",
   "metadata": {},
   "outputs": [],
   "source": []
  }
 ],
 "metadata": {
  "kernelspec": {
   "display_name": "Python 3 (ipykernel)",
   "language": "python",
   "name": "python3"
  },
  "language_info": {
   "codemirror_mode": {
    "name": "ipython",
    "version": 3
   },
   "file_extension": ".py",
   "mimetype": "text/x-python",
   "name": "python",
   "nbconvert_exporter": "python",
   "pygments_lexer": "ipython3",
   "version": "3.8.10"
  }
 },
 "nbformat": 4,
 "nbformat_minor": 5
}
