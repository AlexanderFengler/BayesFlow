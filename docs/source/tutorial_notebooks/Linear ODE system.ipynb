{
 "cells": [
  {
   "cell_type": "markdown",
   "id": "26ae7590",
   "metadata": {},
   "source": [
    "\n",
    "# Import Packages"
   ]
  },
  {
   "cell_type": "code",
   "execution_count": 18,
   "id": "fa243701",
   "metadata": {},
   "outputs": [],
   "source": [
    "import os\n",
    "import sys\n",
    "import numpy as np\n",
    "from functools import partial"
   ]
  },
  {
   "cell_type": "code",
   "execution_count": 14,
   "id": "9d1181fc",
   "metadata": {},
   "outputs": [],
   "source": [
    "sys.path.append(os.path.abspath(os.path.join('../../..')))\n",
    "from bayesflow.forward_inference import Prior, Simulator"
   ]
  },
  {
   "cell_type": "markdown",
   "id": "06246a18",
   "metadata": {},
   "source": [
    "# Introduction\n",
    "<br>\n",
    "In this tutorial, we will look at a simple linear ODE system:\n",
    "\n",
    "<br><br>\n",
    "$$\n",
    "\\frac{du}{dt} = a u + b v \\\\\n",
    "\\frac{dv}{dt} = c u + d v  \n",
    "$$\n",
    "<br><br>\n",
    "\n",
    "\n",
    "with the boundary conditions:\n",
    "\n",
    "<br><br>\n",
    "$$\n",
    "u(t=0) = u_0 \\\\\n",
    "v(t=0) = v_0\n",
    "$$\n",
    "<br><br>\n",
    "\n",
    "Given the solutions $u(t)$ and $v(t)$, we want to use BayesFlow to predict the parameters $a$, $b$, $c$ and $d$ of the ODE equations as well as the boundary conditions $u_0$ and $v_0$.  \n"
   ]
  },
  {
   "cell_type": "markdown",
   "id": "97353c55",
   "metadata": {},
   "source": [
    "# Analytical Solution\n",
    "\n",
    "The advantage of such a simple ODE system is, that the analytical solutions for $u$ and $v$ are known:\n",
    "\n",
    "<br><br>\n",
    "$$\n",
    "\\begin{pmatrix}\n",
    "    u \\\\\n",
    "    v\n",
    "\\end{pmatrix}\n",
    "= C_1 e^{\\lambda_1 t} \\vec{v_1} + C_2 e^{\\lambda_2 t} \\vec{v_2} = \n",
    "\\begin{bmatrix}\n",
    "    \\vec{v_1} & \\vec{v_2}\n",
    "\\end{bmatrix}\n",
    "\\begin{pmatrix}\n",
    "    C_1 e^{\\lambda_1 t} \\\\\n",
    "    C_2 e^{\\lambda_2 t}\n",
    "\\end{pmatrix}\n",
    "$$\n",
    "<br><br>\n",
    "\n",
    "where $\\lambda_1$ and $\\lambda_2$ are eigenvalues and $\\vec{v_1}$ and $\\vec{v_2}$ are eigenvectors of the matrix:\n",
    "\n",
    "<br><br>\n",
    "$$\n",
    "A=\n",
    "\\begin{pmatrix}\n",
    "    a & b \\\\\n",
    "    c & d \\\\\n",
    "\\end{pmatrix}\n",
    "$$\n",
    "<br><br>\n",
    "\n",
    "$\\begin{bmatrix} \\vec{v_1} & \\vec{v_2} \\end{bmatrix}$ is the matrix, that has the eigenvectors $\\vec{v_1}$ and $\\vec{v_2}$ as its column vectors. \n",
    "\n",
    "<br><br>\n",
    "The constants $C_1$ and $C_2$ can be computed from the boundary condition:\n",
    "\n",
    "<br><br>\n",
    "$$\n",
    "\\begin{pmatrix}\n",
    "    C_1 \\\\\n",
    "    C_2\n",
    "\\end{pmatrix}\n",
    "=\n",
    "\\begin{bmatrix}\n",
    "    \\vec{v_1} & \\vec{v_2}\n",
    "\\end{bmatrix}^{-1}\n",
    "\\begin{pmatrix}\n",
    "    u_0 \\\\\n",
    "    v_0\n",
    "\\end{pmatrix}\n",
    "$$"
   ]
  },
  {
   "cell_type": "markdown",
   "id": "5dc25c80",
   "metadata": {},
   "source": [
    "# Stability of Solutions\n",
    "\n",
    "The solution $u$ and $v$ will be of the form:\n",
    "\n",
    "<br><br>\n",
    "$$\n",
    "u = v_{11} C_1 e^{\\lambda_1 t} + v_{21} C_2 e^{\\lambda_2 t} \\\\\n",
    "v = v_{12} C_1 e^{\\lambda_1 t} + v_{22} C_2 e^{\\lambda_2 t}\n",
    "$$\n",
    "<br><br>\n",
    "\n",
    "By separating the real and complex part of the eigenvalues $\\lambda_i = \\gamma + i \\omega$ we see, that the real part affects if a solution will be exponential increasing/decreasing or stay constant, whereas the complex part will determine the oscillation behaviour. \n",
    "\n",
    "<br><br>\n",
    "$$\n",
    "u = v_{11} C_1 e^{\\gamma_1 t} \\left[ cos(\\omega_1 t) + i sin(\\omega_1 t) \\right] + v_{21} C_2 e^{\\gamma_2 t} \\left[ cos(\\omega_2 t) + i sin(\\omega_2 t) \\right] \\\\\n",
    "v = v_{12} C_1 e^{\\gamma_1 t} \\left[ cos(\\omega_1 t) + i sin(\\omega_1 t) \\right] + v_{22} C_2 e^{\\gamma_2 t} \\left[  cos(\\omega_2 t) + i sin(\\omega_2 t) \\right]\n",
    "$$\n",
    "<br><br>\n",
    "\n",
    "We will apply rejection sampling to only consider stable solutions, in other words solution that fulfill the condition $\\gamma_1 \\leq 0$ and $\\gamma_2 \\leq 0$.  "
   ]
  },
  {
   "cell_type": "markdown",
   "id": "f122ff9f",
   "metadata": {},
   "source": [
    " # Generate Simulation Data with Rejection Sampling\n",
    " \n",
    "We have to generate some simulation data to train our BayesFlow. The first step is to randomly draw combinations of $a$, $b$, $c$, $d$, $u_0$ and $v_0$ from a uniform prior distribution. Additionally, we estimate the prior means and standard deviations for normalization later.  "
   ]
  },
  {
   "cell_type": "code",
   "execution_count": 4,
   "id": "2b89293b",
   "metadata": {},
   "outputs": [],
   "source": [
    "def model_prior():\n",
    "    \"\"\"Generates random draws from uniform pior with rejection sampling\"\"\"\n",
    "    \n",
    "    while True:\n",
    "        # generate sample\n",
    "        samples = np.random.uniform(low=-10, high=10, size=6)\n",
    "        \n",
    "        # reject, if solution not stable\n",
    "        A = samples[:4].reshape((2, 2))\n",
    "        eigenvalues, _ = np.linalg.eig(A)\n",
    "        if eigenvalues[0].real <= 0 and eigenvalues[1].real <= 0:\n",
    "            break\n",
    "            \n",
    "    return samples   "
   ]
  },
  {
   "cell_type": "code",
   "execution_count": 11,
   "id": "128a68ad",
   "metadata": {},
   "outputs": [],
   "source": [
    "prior = Prior(prior_fun=model_prior, param_names=[r'$a$', r'$b$', r'$c$', r'$d$', r'$u_0$', r'$v_0$']) \n",
    "prior_means, prior_stds = prior.estimate_means_and_stds()"
   ]
  },
  {
   "cell_type": "markdown",
   "id": "b2372bea",
   "metadata": {},
   "source": [
    "The next step is to generate simulation data from the prior samples by defining a simulator:"
   ]
  },
  {
   "cell_type": "code",
   "execution_count": 16,
   "id": "bc236f75",
   "metadata": {},
   "outputs": [],
   "source": [
    "def linear_ode_solver(params, t):\n",
    "    \"\"\"Solves the linear ODE system analytically for given time points t and prior parameter samples\"\"\"\n",
    "    \n",
    "    # unpack params\n",
    "    A = params[:4].reshape((2, 2))\n",
    "    boundaries = params[-2:]\n",
    "    \n",
    "    # solve for u and v\n",
    "    eigenvalues, eigenvectors = np.linalg.eig(A)\n",
    "    C = np.linalg.inv(eigenvectors) @ boundaries\n",
    "    solution = eigenvectors @ np.array([C[0] * np.exp(eigenvalues[0] * t), C[1] * np.exp(eigenvalues[1] * t)])\n",
    "    \n",
    "    return solution[0], solution[1]"
   ]
  },
  {
   "cell_type": "code",
   "execution_count": 20,
   "id": "1dceb00b",
   "metadata": {},
   "outputs": [],
   "source": [
    "time_points = np.linspace(0, 20, num=40)\n",
    "simulator = Simulator(simulator_fun=partial(linear_ode_solver, t=time_points))"
   ]
  },
  {
   "cell_type": "markdown",
   "id": "c46e214f",
   "metadata": {},
   "source": []
  }
 ],
 "metadata": {
  "kernelspec": {
   "display_name": "Python 3 (ipykernel)",
   "language": "python",
   "name": "python3"
  },
  "language_info": {
   "codemirror_mode": {
    "name": "ipython",
    "version": 3
   },
   "file_extension": ".py",
   "mimetype": "text/x-python",
   "name": "python",
   "nbconvert_exporter": "python",
   "pygments_lexer": "ipython3",
   "version": "3.8.10"
  }
 },
 "nbformat": 4,
 "nbformat_minor": 5
}
