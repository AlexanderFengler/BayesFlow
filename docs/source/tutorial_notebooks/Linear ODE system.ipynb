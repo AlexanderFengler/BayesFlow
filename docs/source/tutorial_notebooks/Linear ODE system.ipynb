{
 "cells": [
  {
   "cell_type": "markdown",
   "id": "26ae7590",
   "metadata": {},
   "source": [
    "# Import Packages"
   ]
  },
  {
   "cell_type": "code",
   "execution_count": null,
   "id": "fa243701",
   "metadata": {},
   "outputs": [],
   "source": []
  },
  {
   "cell_type": "markdown",
   "id": "06246a18",
   "metadata": {},
   "source": [
    "# Introduction\n",
    "<br>\n",
    "In this tutorial, we will look at a simple linear ODE system:\n",
    "\n",
    "<br><br>\n",
    "$$\n",
    "\\frac{du}{dt} = a u + b v \\\\\n",
    "\\frac{dv}{dt} = c u + d v  \n",
    "$$\n",
    "<br><br>\n",
    "\n",
    "\n",
    "with the boundary conditions:\n",
    "\n",
    "<br><br>\n",
    "$$\n",
    "u(t=0) = u_0 \\\\\n",
    "v(t=0) = v_0\n",
    "$$\n",
    "<br><br>\n",
    "\n",
    "Given the solutions $u(t)$ and $v(t)$, we want to use BayesFlow to predict the parameters $a$, $b$, $c$ and $d$ of the ODE equations as well as the boundary conditions $u_0$ and $v_0$.  \n"
   ]
  },
  {
   "cell_type": "markdown",
   "id": "97353c55",
   "metadata": {},
   "source": [
    "# Analytical Solution\n",
    "\n",
    "The advantage of such a simple ODE system is, that the analytical solutions for $u$ and $v$ are known:\n",
    "\n",
    "<br><br>\n",
    "$$\n",
    "\\begin{pmatrix}\n",
    "    u \\\\\n",
    "    v\n",
    "\\end{pmatrix}\n",
    "= C_1 e^{\\lambda_1 t} \\vec{v_1} + C_2 e^{\\lambda_2 t} \\vec{v_2} = \n",
    "\\begin{bmatrix}\n",
    "    \\vec{v_1} & \\vec{v_2}\n",
    "\\end{bmatrix}\n",
    "\\begin{pmatrix}\n",
    "    C_1 e^{\\lambda_1 t} \\\\\n",
    "    C_2 e^{\\lambda_2 t}\n",
    "\\end{pmatrix}\n",
    "$$\n",
    "<br><br>\n",
    "\n",
    "where $\\lambda_1$ and $\\lambda_2$ are eigenvalues and $\\vec{v_1}$ and $\\vec{v_2}$ are eigenvectors of the matrix:\n",
    "\n",
    "<br><br>\n",
    "$$\n",
    "A=\n",
    "\\begin{pmatrix}\n",
    "    a & b \\\\\n",
    "    c & d \\\\\n",
    "\\end{pmatrix}\n",
    "$$\n",
    "<br><br>\n",
    "\n",
    "$\\begin{bmatrix} \\vec{v_1} & \\vec{v_2} \\end{bmatrix}$ is the matrix, that has the eigenvectors $\\vec{v_1}$ and $\\vec{v_2}$ as its column vectors."
   ]
  },
  {
   "cell_type": "code",
   "execution_count": null,
   "id": "a0ef3466",
   "metadata": {},
   "outputs": [],
   "source": []
  }
 ],
 "metadata": {
  "kernelspec": {
   "display_name": "Python 3 (ipykernel)",
   "language": "python",
   "name": "python3"
  },
  "language_info": {
   "codemirror_mode": {
    "name": "ipython",
    "version": 3
   },
   "file_extension": ".py",
   "mimetype": "text/x-python",
   "name": "python",
   "nbconvert_exporter": "python",
   "pygments_lexer": "ipython3",
   "version": "3.8.10"
  }
 },
 "nbformat": 4,
 "nbformat_minor": 5
}
