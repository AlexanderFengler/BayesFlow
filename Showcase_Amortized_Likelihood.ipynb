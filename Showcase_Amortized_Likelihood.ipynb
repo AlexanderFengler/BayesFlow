{
 "cells": [
  {
   "cell_type": "markdown",
   "id": "collaborative-rescue",
   "metadata": {},
   "source": [
    "# User-defined functions"
   ]
  },
  {
   "cell_type": "code",
   "execution_count": 2,
   "id": "optional-disco",
   "metadata": {},
   "outputs": [],
   "source": [
    "import numpy as np\n",
    "np.set_printoptions(suppress=True)"
   ]
  },
  {
   "cell_type": "code",
   "execution_count": 3,
   "id": "decreased-cream",
   "metadata": {},
   "outputs": [],
   "source": [
    "from bayesflow.forward_inference import *\n",
    "from bayesflow.configuration import *\n",
    "from bayesflow.amortized_inference import AmortizedLikelihood\n",
    "from bayesflow.networks import InvertibleNetwork\n",
    "from bayesflow.trainers import Trainer"
   ]
  },
  {
   "cell_type": "code",
   "execution_count": 4,
   "id": "finite-project",
   "metadata": {},
   "outputs": [],
   "source": [
    "%load_ext autoreload\n",
    "%autoreload 2"
   ]
  },
  {
   "cell_type": "markdown",
   "id": "embedded-satellite",
   "metadata": {},
   "source": [
    "# User-defined functions"
   ]
  },
  {
   "cell_type": "code",
   "execution_count": 5,
   "id": "selective-andrews",
   "metadata": {},
   "outputs": [],
   "source": [
    "def prior_fun():\n",
    "    return np.random.normal(size=3)\n",
    "\n",
    "def n_obs_gen():\n",
    "    return np.random.randint(20, 100+1)\n",
    "\n",
    "def generator(params, n_obs):\n",
    "    return np.random.normal(params, size=(n_obs, params.shape[0]))"
   ]
  },
  {
   "cell_type": "markdown",
   "id": "compact-briefing",
   "metadata": {},
   "source": [
    "# Generative Model Interface"
   ]
  },
  {
   "cell_type": "code",
   "execution_count": 6,
   "id": "upset-silver",
   "metadata": {},
   "outputs": [],
   "source": [
    "sim_context = ContextGenerator(\n",
    "    non_batchable_context_fun=n_obs_gen,\n",
    ")"
   ]
  },
  {
   "cell_type": "code",
   "execution_count": 7,
   "id": "valued-facility",
   "metadata": {},
   "outputs": [],
   "source": [
    "sim = Simulator(simulator_fun=generator, context_generator=sim_context)"
   ]
  },
  {
   "cell_type": "code",
   "execution_count": 8,
   "id": "running-burner",
   "metadata": {},
   "outputs": [
    {
     "name": "stdout",
     "output_type": "stream",
     "text": [
      "Shape of parameter batch after 2 pilot simulations: (batch_size = 2, 3)\n",
      "Shape of simulation batch after 2 pilot simulations: (batch_size = 2, 27, 3)\n",
      "No prior non-batchable context provided.\n",
      "No prior batchable context provided.\n",
      "Could not determine shape of simulation non-batchable context. Type appears to be non-array: <class 'int'>,                                    so make sure your input configurator takes cares of that!\n",
      "No simulation batchable context provided.\n"
     ]
    }
   ],
   "source": [
    "gen_model = GenerativeModel(prior_fun, sim)"
   ]
  },
  {
   "cell_type": "markdown",
   "id": "manual-outside",
   "metadata": {},
   "source": [
    "# Networks and Amortizer"
   ]
  },
  {
   "cell_type": "code",
   "execution_count": 9,
   "id": "expensive-grammar",
   "metadata": {},
   "outputs": [],
   "source": [
    "inference_net = InvertibleNetwork({'n_params': 3})\n",
    "surrogate = AmortizedLikelihood(inference_net)"
   ]
  },
  {
   "cell_type": "markdown",
   "id": "played-needle",
   "metadata": {},
   "source": [
    "# Trainer and Simulation-Based Training"
   ]
  },
  {
   "cell_type": "code",
   "execution_count": 11,
   "id": "stopped-landing",
   "metadata": {},
   "outputs": [
    {
     "name": "stdout",
     "output_type": "stream",
     "text": [
      "Performing a consistency check with provided modules...Done.\n"
     ]
    }
   ],
   "source": [
    "trainer = Trainer(amortizer=surrogate, generative_model=gen_model)"
   ]
  },
  {
   "cell_type": "code",
   "execution_count": 12,
   "id": "annoying-miniature",
   "metadata": {},
   "outputs": [
    {
     "data": {
      "application/vnd.jupyter.widget-view+json": {
       "model_id": "61b0b0dd71e543d9a3fd17b8b21d2c57",
       "version_major": 2,
       "version_minor": 0
      },
      "text/plain": [
       "Training epoch 1:   0%|          | 0/50 [00:00<?, ?it/s]"
      ]
     },
     "metadata": {},
     "output_type": "display_data"
    }
   ],
   "source": [
    "h = trainer.train_online(epochs=1, iterations_per_epoch=50, batch_size=32)"
   ]
  },
  {
   "cell_type": "markdown",
   "id": "rental-footwear",
   "metadata": {},
   "source": [
    "# Some Checks"
   ]
  },
  {
   "cell_type": "code",
   "execution_count": 13,
   "id": "piano-effectiveness",
   "metadata": {},
   "outputs": [],
   "source": [
    "inp_data = trainer.configurator(trainer.generative_model(32))"
   ]
  },
  {
   "cell_type": "markdown",
   "id": "consecutive-bracelet",
   "metadata": {},
   "source": [
    "## Likelihood estimation"
   ]
  },
  {
   "cell_type": "code",
   "execution_count": 14,
   "id": "excellent-advertising",
   "metadata": {},
   "outputs": [
    {
     "data": {
      "text/plain": [
       "array([[ 8.006765 ,  5.7138405,  6.270076 , ...,  7.929564 ,  4.8080263,\n",
       "         4.0986767],\n",
       "       [ 5.5476646,  4.8460035,  5.2039223, ...,  7.567896 ,  5.5118637,\n",
       "         4.7959375],\n",
       "       [ 3.7478576,  6.58309  , -1.0359812, ...,  3.758586 ,  4.55163  ,\n",
       "         4.5234065],\n",
       "       ...,\n",
       "       [ 5.722727 ,  4.624796 ,  5.6521225, ...,  5.6183677,  5.6762486,\n",
       "         2.930715 ],\n",
       "       [ 5.9108696,  5.1875954,  4.8316517, ...,  6.9187045,  4.294381 ,\n",
       "         5.995303 ],\n",
       "       [ 5.726029 ,  6.0359755,  6.496496 , ...,  4.6192036,  7.2494993,\n",
       "         6.3057346]], dtype=float32)"
      ]
     },
     "execution_count": 14,
     "metadata": {},
     "output_type": "execute_result"
    }
   ],
   "source": [
    "surrogate.log_likelihood(inp_data)"
   ]
  },
  {
   "cell_type": "markdown",
   "id": "impossible-school",
   "metadata": {},
   "source": [
    "## Synthetic data generation"
   ]
  },
  {
   "cell_type": "code",
   "execution_count": 15,
   "id": "settled-capacity",
   "metadata": {},
   "outputs": [
    {
     "data": {
      "text/plain": [
       "array([[[ 1.0670216 , -0.02788644,  0.6036515 ],\n",
       "        [ 0.79939246, -0.09182572, -1.478431  ],\n",
       "        [-1.7825991 ,  1.3088417 , -0.0720353 ],\n",
       "        ...,\n",
       "        [-1.1067494 , -0.00606982, -0.8406898 ],\n",
       "        [ 0.48378423, -0.29521313, -0.14911191],\n",
       "        [-1.8107058 , -0.88614047, -0.21139371]],\n",
       "\n",
       "       [[ 1.9681001 ,  4.323698  ,  1.3546277 ],\n",
       "        [ 1.3001264 ,  5.0588145 ,  0.27764672],\n",
       "        [ 1.4281783 ,  3.0455346 ,  0.31784675],\n",
       "        ...,\n",
       "        [ 1.8273635 , -0.68548566,  1.677741  ],\n",
       "        [ 1.6110762 ,  4.59672   ,  0.64524925],\n",
       "        [ 1.5031681 ,  3.3782067 ,  0.9029791 ]],\n",
       "\n",
       "       [[-4.9283485 ,  0.21323866, -2.9626484 ],\n",
       "        [-1.0500737 ,  5.405244  ,  3.0227685 ],\n",
       "        [ 2.08179   ,  3.9479432 , -4.770816  ],\n",
       "        ...,\n",
       "        [ 0.90229535,  0.52661914, -2.7231574 ],\n",
       "        [-3.0022712 ,  0.19553289, -3.1069388 ],\n",
       "        [-1.0290381 , -3.6024685 , -3.1178894 ]],\n",
       "\n",
       "       ...,\n",
       "\n",
       "       [[-3.9568725 , -2.8689969 ,  2.994326  ],\n",
       "        [-2.455857  ,  2.7747986 ,  1.3034736 ],\n",
       "        [-7.522901  ,  1.2573019 , -0.30521438],\n",
       "        ...,\n",
       "        [-6.614758  ,  1.081665  , -0.1181121 ],\n",
       "        [-1.1198632 , -0.25692153,  0.4718105 ],\n",
       "        [-7.025287  ,  0.9080282 , -1.0141821 ]],\n",
       "\n",
       "       [[ 1.274936  , -0.5995893 , -0.47093713],\n",
       "        [ 3.8006732 ,  1.1238014 , -0.54727465],\n",
       "        [ 0.70300907, -6.790475  , -1.3926839 ],\n",
       "        ...,\n",
       "        [-0.07311006, -3.8775547 ,  1.1245878 ],\n",
       "        [-0.76048374, -0.46441746, -1.5485163 ],\n",
       "        [-0.8780373 , -2.910658  ,  0.78441334]],\n",
       "\n",
       "       [[ 1.3242525 ,  1.4892234 , -1.2935739 ],\n",
       "        [ 2.337341  ,  2.2489064 ,  0.5015485 ],\n",
       "        [-1.3500557 ,  1.3532735 , -0.76739055],\n",
       "        ...,\n",
       "        [ 2.190915  ,  1.0459608 , -0.48737508],\n",
       "        [-0.0476286 ,  1.5149591 , -1.1143705 ],\n",
       "        [ 2.005445  ,  2.463013  , -2.0603473 ]]], dtype=float32)"
      ]
     },
     "execution_count": 15,
     "metadata": {},
     "output_type": "execute_result"
    }
   ],
   "source": [
    "surrogate.sample(inp_data, n_samples=24)"
   ]
  },
  {
   "cell_type": "markdown",
   "id": "exact-nowhere",
   "metadata": {},
   "source": [
    "# Extentions"
   ]
  },
  {
   "cell_type": "code",
   "execution_count": null,
   "id": "seasonal-neighbor",
   "metadata": {},
   "outputs": [],
   "source": []
  }
 ],
 "metadata": {
  "kernelspec": {
   "display_name": "Python 3",
   "language": "python",
   "name": "python3"
  },
  "language_info": {
   "codemirror_mode": {
    "name": "ipython",
    "version": 3
   },
   "file_extension": ".py",
   "mimetype": "text/x-python",
   "name": "python",
   "nbconvert_exporter": "python",
   "pygments_lexer": "ipython3",
   "version": "3.7.1"
  },
  "toc": {
   "base_numbering": 1,
   "nav_menu": {},
   "number_sections": true,
   "sideBar": true,
   "skip_h1_title": false,
   "title_cell": "Table of Contents",
   "title_sidebar": "Contents",
   "toc_cell": false,
   "toc_position": {},
   "toc_section_display": true,
   "toc_window_display": false
  }
 },
 "nbformat": 4,
 "nbformat_minor": 5
}
